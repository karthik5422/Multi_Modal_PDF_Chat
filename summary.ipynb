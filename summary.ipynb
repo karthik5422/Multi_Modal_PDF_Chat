{
 "cells": [
  {
   "cell_type": "code",
   "execution_count": 2,
   "metadata": {},
   "outputs": [],
   "source": [
    "import os\n",
    "import google.generativeai as genai\n",
    "from dotenv import load_dotenv\n",
    "\n",
    "load_dotenv()\n",
    "\n",
    "genai.configure(api_key=os.getenv(\"GOOGLE_API_KEY\"))"
   ]
  },
  {
   "cell_type": "code",
   "execution_count": 2,
   "metadata": {},
   "outputs": [],
   "source": [
    "from langchain.prompts import PromptTemplate\n",
    "from langchain_google_genai import ChatGoogleGenerativeAI\n",
    "from langchain.chains.summarize import load_summarize_chain\n",
    "from langchain.text_splitter import RecursiveCharacterTextSplitter"
   ]
  },
  {
   "cell_type": "code",
   "execution_count": 3,
   "metadata": {},
   "outputs": [],
   "source": [
    "from PyPDF2 import PdfReader\n",
    "# provide the path of  pdf file/files.\n",
    "pdfreader = PdfReader('TheHundred-pageMachineLearning.pdf')\n",
    "from typing_extensions import Concatenate\n",
    "# read text from pdf\n",
    "text = ''\n",
    "for i, page in enumerate(pdfreader.pages):\n",
    "    content = page.extract_text()\n",
    "    if content:\n",
    "        text += content"
   ]
  },
  {
   "cell_type": "code",
   "execution_count": 4,
   "metadata": {},
   "outputs": [],
   "source": [
    "llm = ChatGoogleGenerativeAI(temperature=0, model='gemini-pro',max_output_tokens=4096)"
   ]
  },
  {
   "cell_type": "code",
   "execution_count": 5,
   "metadata": {},
   "outputs": [
    {
     "data": {
      "text/plain": [
       "70428"
      ]
     },
     "execution_count": 5,
     "metadata": {},
     "output_type": "execute_result"
    }
   ],
   "source": [
    "llm.get_num_tokens(text)"
   ]
  },
  {
   "cell_type": "code",
   "execution_count": 7,
   "metadata": {},
   "outputs": [],
   "source": [
    "## Splittting the text\n",
    "text_splitter = RecursiveCharacterTextSplitter(chunk_size=50000, chunk_overlap=500)\n",
    "chunks = text_splitter.create_documents([text])"
   ]
  },
  {
   "cell_type": "code",
   "execution_count": 8,
   "metadata": {},
   "outputs": [
    {
     "data": {
      "text/plain": [
       "6"
      ]
     },
     "execution_count": 8,
     "metadata": {},
     "output_type": "execute_result"
    }
   ],
   "source": [
    "len(chunks)"
   ]
  },
  {
   "cell_type": "code",
   "execution_count": 9,
   "metadata": {},
   "outputs": [
    {
     "name": "stderr",
     "output_type": "stream",
     "text": [
      "c:\\Users\\DELL\\anaconda3\\envs\\myenv\\lib\\site-packages\\langchain_core\\_api\\deprecation.py:117: LangChainDeprecationWarning: The function `run` was deprecated in LangChain 0.1.0 and will be removed in 0.2.0. Use invoke instead.\n",
      "  warn_deprecated(\n"
     ]
    }
   ],
   "source": [
    "chain = load_summarize_chain(\n",
    "    llm,\n",
    "    chain_type='map_reduce',\n",
    "    verbose=False\n",
    ")\n",
    "summary = chain.run(chunks)"
   ]
  },
  {
   "cell_type": "code",
   "execution_count": 19,
   "metadata": {},
   "outputs": [
    {
     "data": {
      "text/plain": [
       "'This book provides an introduction to machine learning, defining it as finding mathematical formulas that produce desired outputs from input data. It covers different types of learning, mathematical notation, and fundamental algorithms like linear regression, logistic regression, and support vector machines. The book emphasizes the limitations and ethical considerations of machine learning models. It also discusses advanced topics such as neural networks, sequence modeling, class imbalance handling, ensemble algorithms, regularization techniques, and transfer learning.'"
      ]
     },
     "execution_count": 19,
     "metadata": {},
     "output_type": "execute_result"
    }
   ],
   "source": [
    "summary"
   ]
  },
  {
   "cell_type": "code",
   "execution_count": 10,
   "metadata": {},
   "outputs": [],
   "source": [
    "chunks_prompt=\"\"\"\n",
    "Please summarize the below book:\n",
    "book:`{text}'\n",
    "Summary:\n",
    "\"\"\"\n",
    "map_prompt_template=PromptTemplate(input_variables=['text'],\n",
    "                                    template=chunks_prompt)"
   ]
  },
  {
   "cell_type": "code",
   "execution_count": 11,
   "metadata": {},
   "outputs": [],
   "source": [
    "final_combine_prompt='''\n",
    "Provide a final summary of the entire book with these important points.\n",
    "Add a Generic Motivational Title,\n",
    "Start the precise summary with an introduction and provide the\n",
    "summary in number points and the ouput in maximum 150 words.\n",
    "book: `{text}`\n",
    "'''\n",
    "final_combine_prompt_template=PromptTemplate(input_variables=['text'],\n",
    "                                             template=final_combine_prompt)"
   ]
  },
  {
   "cell_type": "code",
   "execution_count": 26,
   "metadata": {},
   "outputs": [],
   "source": [
    "summary_chain = load_summarize_chain(\n",
    "    llm=llm,\n",
    "    chain_type='map_reduce',\n",
    "    map_prompt=map_prompt_template,\n",
    "    combine_prompt=final_combine_prompt_template,\n",
    "    verbose=False\n",
    ")\n",
    "output = summary_chain.run(chunks)"
   ]
  },
  {
   "cell_type": "code",
   "execution_count": 13,
   "metadata": {},
   "outputs": [
    {
     "data": {
      "text/plain": [
       "'**Unlock the Power of Machine Learning**\\n\\nThis comprehensive guide to machine learning empowers you with:\\n\\n1. **Types of Learning:** Supervised, unsupervised, metric learning, and learning to rank.\\n2. **Algorithms:** Linear regression, logistic regression, decision trees, support vector machines, neural networks, clustering, and dimensionality reduction.\\n3. **Practical Applications:** Real-world examples and code snippets for implementing solutions.\\n4. **Advanced Techniques:** Learning to rank, learning to recommend, self-supervised learning, and probabilistic graphical models.\\n5. **Practical Value:** Emphasis on understanding principles and applying them effectively.\\n6. **\"Read First, Buy Later\" Principle:** Evaluate content before purchasing.\\n7. **Detailed Explanations and Examples:** Clear and concise explanations with supporting examples.\\n8. **QR Codes for Additional Resources:** Access to online materials for further exploration.\\n9. **Suitable for Beginners and Practitioners:** Foundational understanding and practical guidance for all levels.'"
      ]
     },
     "execution_count": 13,
     "metadata": {},
     "output_type": "execute_result"
    }
   ],
   "source": [
    "output"
   ]
  },
  {
   "cell_type": "code",
   "execution_count": 27,
   "metadata": {},
   "outputs": [],
   "source": [
    "chain = load_summarize_chain(\n",
    "    llm=llm,\n",
    "    chain_type='refine',\n",
    "    verbose=False\n",
    ")\n",
    "output_summary = chain.run(chunks)"
   ]
  },
  {
   "cell_type": "code",
   "execution_count": 32,
   "metadata": {},
   "outputs": [
    {
     "data": {
      "text/plain": [
       "'This book provides a concise introduction to machine learning, defining it as the process of finding mathematical formulas that generate desired outputs when applied to a collection of inputs (training data). These formulas can also generate correct outputs for most other inputs from the same or a similar statistical distribution as the training data.\\n\\nThe book emphasizes that machines do not learn in the same way as animals. If a machine is trained to play a video game by looking straight at the screen, it will not be able to play the game on a rotated screen unless it was also trained to recognize rotation.\\n\\nThe term \"machine learning\" is used to refer to the science and engineering of building machines capable of doing various useful things without being explicitly programmed to do so.\\n\\nThe book is divided into three parts:\\n\\n1. Introduction: This part provides an overview of machine learning, including its different types (supervised, semi-supervised, unsupervised, and reinforcement learning) and how supervised learning works.\\n\\n2. Notation and Definitions: This part reviews mathematical notation and definitions used in machine learning, including vectors, matrices, sets, functions, derivatives, gradients, and probability distributions.\\n\\n3. Fundamental Algorithms: This part describes five fundamental machine learning algorithms: linear regression, logistic regression, support vector machines, decision trees, and k-nearest neighbors.\\n\\nThe book is written in a clear and concise style, with a focus on practical applications. It is intended for beginners in machine learning who want to gain a solid understanding of the field.\\n\\nAdditionally, the book covers advanced topics such as learning to rank, learning to recommend, self-supervised learning, and word embeddings. These topics provide a deeper understanding of machine learning and its applications in various domains.'"
      ]
     },
     "execution_count": 32,
     "metadata": {},
     "output_type": "execute_result"
    }
   ],
   "source": [
    "output_summary"
   ]
  },
  {
   "cell_type": "code",
   "execution_count": 33,
   "metadata": {},
   "outputs": [],
   "source": [
    "question_prompt_template = \"\"\"\n",
    "                  Please provide a summary of the following text.\n",
    "                  TEXT: {text}\n",
    "                  SUMMARY:\n",
    "                  \"\"\"\n",
    "\n",
    "question_prompt = PromptTemplate(\n",
    "    template=question_prompt_template, input_variables=[\"text\"]\n",
    ")"
   ]
  },
  {
   "cell_type": "code",
   "execution_count": 34,
   "metadata": {},
   "outputs": [],
   "source": [
    "refine_prompt_template = \"\"\"\n",
    "              Write a concise summary of the following text delimited by triple backquotes.\n",
    "              Return your response in bullet points which covers the key points of the text.\n",
    "              ```{text}```\n",
    "              BULLET POINT SUMMARY:\n",
    "              \"\"\"\n",
    "\n",
    "refine_prompt = PromptTemplate(\n",
    "    template=refine_prompt_template, input_variables=[\"text\"]\n",
    ")"
   ]
  },
  {
   "cell_type": "code",
   "execution_count": 37,
   "metadata": {},
   "outputs": [],
   "source": [
    "refine_chain = load_summarize_chain(\n",
    "    llm=llm,\n",
    "    chain_type=\"refine\",\n",
    "    question_prompt=question_prompt,\n",
    "    refine_prompt=refine_prompt,\n",
    "    verbose=False\n",
    ")\n",
    "output = refine_chain.run(chunks)"
   ]
  },
  {
   "cell_type": "code",
   "execution_count": 38,
   "metadata": {},
   "outputs": [
    {
     "data": {
      "text/plain": [
       "\"- **Learning to Rank:**\\n    - Supervised learning problem used to optimize search results.\\n    - Three approaches: pointwise, pairwise, and listwise.\\n    - Listwise approach uses metrics like MAP to optimize ranking directly.\\n    - LambdaMART implements a pairwise approach and uses gradient boosting to train the ranking function.\\n\\n- **Learning to Recommend:**\\n    - Content-based filtering: Recommends items based on user's consumption history.\\n    - Collaborative filtering: Recommends items based on preferences of similar users.\\n    - Hybrid approach combines both methods.\\n    - Factorization machines and denoising autoencoders are effective collaborative filtering algorithms.\\n\\n- **Self-Supervised Learning: Word Embeddings:**\\n    - Word2vec's skip-gram model learns word embeddings by predicting context words from a central word.\\n    - Embeddings capture semantic relationships between words.\\n\\n- **Other Topics Not Covered:**\\n    - Topic modeling (Latent Dirichlet Allocation)\\n    - Gaussian processes\\n    - Generalized linear models\\n    - Probabilistic graphical models\\n    - Markov Chain Monte Carlo\\n    - Genetic algorithms\\n    - Reinforcement learning\""
      ]
     },
     "execution_count": 38,
     "metadata": {},
     "output_type": "execute_result"
    }
   ],
   "source": [
    "output"
   ]
  }
 ],
 "metadata": {
  "kernelspec": {
   "display_name": "myenv",
   "language": "python",
   "name": "python3"
  },
  "language_info": {
   "codemirror_mode": {
    "name": "ipython",
    "version": 3
   },
   "file_extension": ".py",
   "mimetype": "text/x-python",
   "name": "python",
   "nbconvert_exporter": "python",
   "pygments_lexer": "ipython3",
   "version": "3.10.13"
  }
 },
 "nbformat": 4,
 "nbformat_minor": 2
}
