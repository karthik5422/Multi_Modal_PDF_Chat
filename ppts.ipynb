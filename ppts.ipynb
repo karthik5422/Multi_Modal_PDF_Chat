{
 "cells": [
  {
   "cell_type": "code",
   "execution_count": 20,
   "metadata": {},
   "outputs": [
    {
     "name": "stdout",
     "output_type": "stream",
     "text": [
      "Extracted Text:\n",
      "['Your Logo', 'Project Delivery Team', 'Program Manager', 'SDLC Waterfall Framework', 'HLD\\n\\nLLD', 'Requirements\\nAnalysis', 'Design', 'Development\\n& Testing', 'Deployment', 'Maintenance', 'Project Kick off', 'SDLC Agile Framework', 'Annual Revenues', 'Global Market Size']\n",
      "\n",
      "Extracted Tables:\n",
      "Table 1:\n",
      "    Year  Revenues                       Billion US$\n",
      "0         Americas   EME  Asia  Far East       Total\n",
      "1                                                   \n",
      "2   2015      1.29  0.52  0.52      0.26        2.58\n",
      "3   2016      1.54  0.61  0.61      0.31        3.07\n",
      "4   2017      1.79  0.72  0.72      0.36        3.58\n",
      "5   2018      1.98  0.79  0.79      0.40        3.97\n",
      "6   2019      2.18  0.87  0.87      0.44        4.35\n",
      "7   2020      2.27  0.91  0.91      0.45        4.54\n",
      "8   2021      2.09  0.84  0.84      0.42        4.18\n",
      "9   2022      2.35  0.94  0.94      0.47        4.69\n",
      "10  2023      2.56  1.02  1.02      0.51        5.11\n",
      "\n",
      "Image paths:\n",
      "['output\\\\image_0.png', 'output\\\\image_1.png', 'output\\\\image_2.png', 'output\\\\image_1.png']\n",
      "\n",
      "Chart paths:\n",
      "['output\\\\chart_0.png']\n"
     ]
    }
   ],
   "source": [
    "from pptx import Presentation\n",
    "from PIL import Image\n",
    "import os\n",
    "import pandas as pd\n",
    "import matplotlib.pyplot as plt\n",
    "\n",
    "# Function to extract text from a slide\n",
    "def extract_text(slide):\n",
    "    text = []\n",
    "    for shape in slide.shapes:\n",
    "        if hasattr(shape, 'text') and shape.text:\n",
    "            text.append(shape.text.strip())\n",
    "    return text\n",
    "\n",
    "# Function to extract images and charts from a slide\n",
    "def extract_images_and_charts(slide, output_folder):\n",
    "    image_paths = []\n",
    "    chart_paths = []\n",
    "    for idx, shape in enumerate(slide.shapes):\n",
    "        if shape.shape_type == 13:  # 13 refers to picture (image)\n",
    "            image = shape.image\n",
    "            image_bytes = image.blob\n",
    "            img_path = os.path.join(output_folder, f'image_{idx}.png')\n",
    "            with open(img_path, 'wb') as f:\n",
    "                f.write(image_bytes)\n",
    "            image_paths.append(img_path)\n",
    "        elif shape.has_chart:\n",
    "            chart = shape.chart\n",
    "            chart_data = extract_chart_data(chart)\n",
    "            img_path = os.path.join(output_folder, f'chart_{idx}.png')\n",
    "            recreate_chart(chart_data, img_path)\n",
    "            chart_paths.append(img_path)\n",
    "    return image_paths, chart_paths\n",
    "\n",
    "# Function to extract tables from a slide\n",
    "def extract_tables(slide):\n",
    "    tables = []\n",
    "    for shape in slide.shapes:\n",
    "        if shape.has_table:\n",
    "            table = shape.table\n",
    "            data = []\n",
    "            for row in table.rows:\n",
    "                row_data = [cell.text.strip() for cell in row.cells]\n",
    "                data.append(row_data)\n",
    "            df = pd.DataFrame(data[1:], columns=data[0])  # Assuming the first row contains column headers\n",
    "            tables.append(df)\n",
    "    return tables\n",
    "\n",
    "# Function to extract chart data from a chart shape\n",
    "def extract_chart_data(chart):\n",
    "    chart_data = {}\n",
    "    for idx, series in enumerate(chart.series):\n",
    "        categories = [str(category) for category in chart.plots[0].categories]\n",
    "        values = [value for value in series.values]\n",
    "        chart_data[f'Series {idx + 1}'] = dict(zip(categories, values))\n",
    "    return chart_data\n",
    "\n",
    "\n",
    "# Function to recreate chart using matplotlib\n",
    "def recreate_chart(chart_data, output_path):\n",
    "    df = pd.DataFrame(chart_data)\n",
    "    ax = df.plot(kind='bar')  # You can change the chart type as needed\n",
    "    plt.xlabel('X Axis')\n",
    "    plt.ylabel('Y Axis')\n",
    "    plt.title('Chart Title')\n",
    "    plt.legend(title='Legend')\n",
    "    plt.savefig(output_path)\n",
    "    plt.close()\n",
    "\n",
    "# Load the PowerPoint presentation\n",
    "pr_path = 'Project Delivery.pptx'  # Replace with your PPT, PPTX, or PPTM file path\n",
    "pr = Presentation(pr_path)\n",
    "\n",
    "# Extracting all elements from each slide\n",
    "output_folder = 'output'\n",
    "os.makedirs(output_folder, exist_ok=True)\n",
    "\n",
    "all_text = []\n",
    "all_images = []\n",
    "all_tables = []\n",
    "all_charts = []\n",
    "\n",
    "for slide in pr.slides:\n",
    "    slide_text = extract_text(slide)\n",
    "    all_text.extend(slide_text)\n",
    "    \n",
    "    slide_images, slide_charts = extract_images_and_charts(slide, output_folder)\n",
    "    all_images.extend(slide_images)\n",
    "    all_charts.extend(slide_charts)\n",
    "    \n",
    "    all_tables.extend(extract_tables(slide))\n",
    "\n",
    "# Perform OCR on images to extract text (if needed)\n",
    "# You can use OCR libraries like pytesseract for this purpose\n",
    "\n",
    "# Display or process the extracted elements as needed\n",
    "print(\"Extracted Text:\")\n",
    "print(all_text)\n",
    "print(\"\\nExtracted Tables:\")\n",
    "for idx, table_df in enumerate(all_tables):\n",
    "    print(f\"Table {idx + 1}:\")\n",
    "    print(table_df)\n",
    "print(\"\\nImage paths:\")\n",
    "print(all_images)\n",
    "print(\"\\nChart paths:\")\n",
    "print(all_charts)\n"
   ]
  },
  {
   "cell_type": "code",
   "execution_count": 35,
   "metadata": {},
   "outputs": [
    {
     "name": "stdout",
     "output_type": "stream",
     "text": [
      "3\n"
     ]
    }
   ],
   "source": [
    "import base64\n",
    "image_elements = []\n",
    "output_path = \"C:\\\\Users\\\\DELL\\\\PDF_Chat_MM\\\\output\"\n",
    "\n",
    "# Function to encode images\n",
    "def encode_image(image_path):\n",
    "    with open(image_path, \"rb\") as image_file:\n",
    "        encoded_image = base64.b64encode(image_file.read()).decode(\"utf-8\")\n",
    "    return encoded_image\n",
    "\n",
    "for image_file in os.listdir(output_path):\n",
    "    if image_file.endswith(('.png', '.jpg', '.jpeg')):\n",
    "        image_path = os.path.join(output_path, image_file)\n",
    "        encoded_image = encode_image(image_path)\n",
    "        image_elements.append(encoded_image)\n",
    "print(len(image_elements))"
   ]
  },
  {
   "cell_type": "code",
   "execution_count": 36,
   "metadata": {},
   "outputs": [],
   "source": [
    "from langchain_openai import ChatOpenAI\n",
    "from langchain_community.llms import openai\n",
    "from langchain_google_genai import ChatGoogleGenerativeAI\n",
    "import google.generativeai as genai\n",
    "from langchain.schema.messages import HumanMessage, AIMessage\n",
    "from dotenv import load_dotenv\n",
    "\n",
    "# Load environment variables\n",
    "load_dotenv()\n",
    "openai.api_key = os.getenv('OPENAI_API_KEY')\n",
    "genai.configure(api_key=os.getenv(\"GOOGLE_API_KEY\"))\n",
    "\n",
    "chain_gpt = ChatOpenAI(model=\"gpt-3.5-turbo\", max_tokens=1024)\n",
    "chain_gemini_vision = ChatGoogleGenerativeAI(model=\"gemini-pro-vision\",max_output_tokens=1024)\n",
    "\n",
    "# Function for text summaries\n",
    "def summarize_text(text_element):\n",
    "    prompt = f\"Summarize the following text:\\n\\n{text_element}\\n\\nSummary:\"\n",
    "    response = chain_gpt.invoke([HumanMessage(content=prompt)])\n",
    "    return response.content\n",
    "\n",
    "# Function for table summaries\n",
    "def summarize_table(table_element):\n",
    "    prompt = f\"Summarize the following table:\\n\\n{table_element}\\n\\nSummary:\"\n",
    "    response = chain_gpt.invoke([HumanMessage(content=prompt)])\n",
    "    return response.content\n",
    "\n",
    "# Function for image summaries\n",
    "def summarize_image(encoded_image):\n",
    "    prompt = HumanMessage(\n",
    "        content=[\n",
    "            {\"type\": \"text\", \"text\": \"Describe the contents of this image.\"},\n",
    "            {\n",
    "                \"type\": \"image_url\",\n",
    "                \"image_url\": {\n",
    "                    \"url\": f\"data:image/jpeg;base64,{encoded_image}\"\n",
    "                },\n",
    "            },\n",
    "        ]\n",
    "    )\n",
    "    response = chain_gemini_vision.invoke([prompt])\n",
    "    return response.content"
   ]
  },
  {
   "cell_type": "code",
   "execution_count": 37,
   "metadata": {},
   "outputs": [
    {
     "name": "stdout",
     "output_type": "stream",
     "text": [
      "1th element of texts processed.\n",
      "Creating a logo for your business is an important step in establishing your brand identity. A well-designed logo can help customers easily recognize and remember your business. It should be simple, memorable, and convey the essence of your brand. Additionally, it should be versatile and work well across different mediums and sizes. Your logo is an essential part of your overall branding strategy.\n",
      "2th element of texts processed.\n",
      "The text likely discusses the role and responsibilities of a project delivery team. This team is typically responsible for overseeing the successful completion of a project, ensuring it is delivered on time, within budget, and meets the specified requirements. Members of the team may include project managers, engineers, designers, and other professionals who work together to achieve project goals. The text may also highlight the importance of effective communication and collaboration within the team to ensure project success.\n",
      "3th element of texts processed.\n",
      "The text likely describes the responsibilities and duties of a program manager. This role typically involves overseeing multiple projects within an organization, ensuring they are completed on time and within budget. Program managers may also be responsible for managing teams, monitoring progress, and communicating with stakeholders.\n",
      "4th element of texts processed.\n",
      "The SDLC Waterfall Framework is a software development methodology that follows a linear and sequential approach, with distinct phases such as requirements gathering, design, implementation, testing, and maintenance. Each phase must be completed before moving on to the next, and changes are difficult to incorporate once a phase is completed. This framework is best suited for projects with well-defined requirements and little room for changes.\n",
      "5th element of texts processed.\n",
      "The text lists abbreviations for High-Level Design (HLD) and Low-Level Design (LLD).\n",
      "6th element of texts processed.\n",
      "The text discusses the importance of requirements analysis in project management. It emphasizes the need to thoroughly analyze and understand all project requirements in order to ensure successful project completion.\n",
      "7th element of texts processed.\n",
      "The text discusses the importance of design in various industries and how it can impact user experience and the success of a product or service. It emphasizes the need for thoughtful and strategic design choices to create a positive and engaging user experience. Additionally, it highlights the role of design in shaping brand identity and loyalty.\n",
      "8th element of texts processed.\n",
      "The text discusses the importance of development and testing in software engineering. It highlights the need for thorough testing during the development process to ensure the quality and functionality of the software. The text emphasizes the importance of collaboration between developers and testers to identify and fix any issues before the software is released.\n",
      "9th element of texts processed.\n",
      "The text discusses the process of deploying a new software or application. It includes planning, testing, and implementing the deployment to ensure it is successful and meets the needs of users. Deployment involves various steps and considerations to ensure a smooth transition to the new system.\n",
      "10th element of texts processed.\n",
      "The text discusses the importance of regular maintenance to keep equipment and machinery running efficiently. It emphasizes the need for proper maintenance schedules, inspections, and repairs to prevent breakdowns and costly downtime. Regular maintenance is crucial for safety, productivity, and overall equipment performance.\n",
      "11th element of texts processed.\n",
      "The text discusses the kickoff of a project, which typically involves setting goals, assigning roles, and outlining a timeline for completion. It is an important step in ensuring that everyone involved is on the same page and understands the project's objectives.\n",
      "12th element of texts processed.\n",
      "The SDLC Agile Framework is a methodology that allows for flexibility and adaptability in software development projects. It focuses on iterative development, collaboration between cross-functional teams, and delivering value to customers quickly. The framework involves breaking down projects into smaller, manageable tasks and continuously reviewing and adjusting plans based on feedback. Agile promotes a customer-centric approach and aims to improve efficiency and quality in software development.\n",
      "13th element of texts processed.\n",
      "The text discusses annual revenues, but no specific details or information are provided.\n",
      "14th element of texts processed.\n",
      "The text discusses the global market size of various industries, indicating the total value of goods and services traded worldwide. It highlights the importance of understanding market size for businesses to identify opportunities for growth and expansion. Additionally, it mentions the impact of market size on pricing strategies and competition within industries.\n"
     ]
    }
   ],
   "source": [
    "# Processing text elements with feedback and sleep\n",
    "text_summaries = []\n",
    "for i, te in enumerate(all_text):\n",
    "    summary = summarize_text(te)\n",
    "    text_summaries.append(summary)\n",
    "    print(f\"{i + 1}th element of texts processed.\")\n",
    "    print(summary)"
   ]
  },
  {
   "cell_type": "code",
   "execution_count": 39,
   "metadata": {},
   "outputs": [
    {
     "name": "stdout",
     "output_type": "stream",
     "text": [
      "1th element of tables processed.\n",
      "The table shows the revenues in billion US dollars for different regions (Americas, EME, Asia, Far East) from 2015 to 2023, as well as the total revenues for each year. Revenues have been increasing steadily over the years, with the total revenues reaching 5.11 billion US dollars in 2023.\n"
     ]
    }
   ],
   "source": [
    "# Processing table elements with feedback and sleep\n",
    "table_summaries = []\n",
    "for i, te in enumerate(all_tables):\n",
    "    summary = summarize_table(te)\n",
    "    table_summaries.append(summary)\n",
    "    print(f\"{i + 1}th element of tables processed.\")\n",
    "    print(summary)"
   ]
  },
  {
   "cell_type": "code",
   "execution_count": 40,
   "metadata": {},
   "outputs": [
    {
     "name": "stdout",
     "output_type": "stream",
     "text": [
      "1th element of images processed.\n",
      " This is a slide from a PowerPoint presentation. The slide contains a purple and gray puzzle piece in the center. The background is white. There is a notes section on the right side of the slide. The slide is titled \"Slide 11 of 11\" and has the subtitle \"Office Theme.\"\n",
      "2th element of images processed.\n",
      " The image contains a چرخه توسعه نرم افزار چابک (Agile software development cycle). The cycle is a continuous process that involves six steps:\n",
      "1. Plan: In this step, the project team gathers requirements from the customer and creates a project plan.\n",
      "2. Design: In this step, the team designs the software architecture and creates a detailed design document.\n",
      "3. Develop: In this step, the team develops the software code.\n",
      "4. Test: In this step, the team tests the software to ensure that it meets the requirements.\n",
      "5. Evaluate: In this step, the team evaluates the software and makes any necessary changes.\n",
      "6. Meet: In this step, the team meets with the customer to review the software and get feedback.\n",
      "3th element of images processed.\n",
      " This is a screenshot of a PowerPoint slide. The slide contains a diagram of two puzzle pieces, one blue and one green. The pieces are interlocked.\n"
     ]
    }
   ],
   "source": [
    "# Processing image elements with feedback and sleep\n",
    "image_summaries = []\n",
    "for i, ie in enumerate(image_elements):\n",
    "    summary = summarize_image(ie)\n",
    "    image_summaries.append(summary)\n",
    "    print(f\"{i + 1}th element of images processed.\")\n",
    "    print(summary)"
   ]
  },
  {
   "cell_type": "code",
   "execution_count": 41,
   "metadata": {},
   "outputs": [],
   "source": [
    "import uuid\n",
    "\n",
    "from langchain_openai import OpenAIEmbeddings\n",
    "from langchain.retrievers.multi_vector import MultiVectorRetriever\n",
    "from langchain.schema.document import Document\n",
    "from langchain.storage import InMemoryStore\n",
    "from langchain_community.vectorstores import Chroma\n",
    "\n",
    "\n",
    "\n",
    "# Initialize the vector store and storage layer\n",
    "vectorstore = Chroma(collection_name=\"summaries\", embedding_function=OpenAIEmbeddings())\n",
    "store = InMemoryStore()\n",
    "id_key = \"doc_id\"\n",
    "\n",
    "# Initialize the retriever\n",
    "retriever = MultiVectorRetriever(vectorstore=vectorstore, docstore=store, id_key=id_key)\n",
    "\n",
    "# Function to add documents to the retriever\n",
    "def add_documents_to_retriever(summaries, original_contents):\n",
    "    doc_ids = [str(uuid.uuid4()) for _ in summaries]\n",
    "    summary_docs = [\n",
    "        Document(page_content=s, metadata={id_key: doc_ids[i]})\n",
    "        for i, s in enumerate(summaries)\n",
    "    ]\n",
    "    retriever.vectorstore.add_documents(summary_docs)\n",
    "    retriever.docstore.mset(list(zip(doc_ids, original_contents)))"
   ]
  },
  {
   "cell_type": "code",
   "execution_count": 42,
   "metadata": {},
   "outputs": [],
   "source": [
    "# Add text summaries\n",
    "add_documents_to_retriever(text_summaries, all_text)\n",
    "\n",
    "# Add table summaries\n",
    "add_documents_to_retriever(table_summaries, all_tables)\n",
    "\n",
    "# Add image summaries\n",
    "add_documents_to_retriever(image_summaries, image_summaries) # hopefully real images soon"
   ]
  },
  {
   "cell_type": "code",
   "execution_count": 43,
   "metadata": {},
   "outputs": [
    {
     "data": {
      "text/plain": [
       "[    Year  Revenues                       Billion US$\n",
       " 0         Americas   EME  Asia  Far East       Total\n",
       " 1                                                   \n",
       " 2   2015      1.29  0.52  0.52      0.26        2.58\n",
       " 3   2016      1.54  0.61  0.61      0.31        3.07\n",
       " 4   2017      1.79  0.72  0.72      0.36        3.58\n",
       " 5   2018      1.98  0.79  0.79      0.40        3.97\n",
       " 6   2019      2.18  0.87  0.87      0.44        4.35\n",
       " 7   2020      2.27  0.91  0.91      0.45        4.54\n",
       " 8   2021      2.09  0.84  0.84      0.42        4.18\n",
       " 9   2022      2.35  0.94  0.94      0.47        4.69\n",
       " 10  2023      2.56  1.02  1.02      0.51        5.11,\n",
       " 'Annual Revenues']"
      ]
     },
     "execution_count": 43,
     "metadata": {},
     "output_type": "execute_result"
    }
   ],
   "source": [
    "# We can retrieve this table\n",
    "retriever.get_relevant_documents(\n",
    "    \" what is the anual revenue of asia in 2020?\"\n",
    ")"
   ]
  },
  {
   "cell_type": "code",
   "execution_count": 46,
   "metadata": {},
   "outputs": [
    {
     "data": {
      "text/plain": [
       "['SDLC Agile Framework',\n",
       " ' The image contains a چرخه توسعه نرم افزار چابک (Agile software development cycle). The cycle is a continuous process that involves six steps:\\n1. Plan: In this step, the project team gathers requirements from the customer and creates a project plan.\\n2. Design: In this step, the team designs the software architecture and creates a detailed design document.\\n3. Develop: In this step, the team develops the software code.\\n4. Test: In this step, the team tests the software to ensure that it meets the requirements.\\n5. Evaluate: In this step, the team evaluates the software and makes any necessary changes.\\n6. Meet: In this step, the team meets with the customer to review the software and get feedback.']"
      ]
     },
     "execution_count": 46,
     "metadata": {},
     "output_type": "execute_result"
    }
   ],
   "source": [
    "# we can retrieve this diagram text\n",
    "retriever.get_relevant_documents(\n",
    "    \" what are the steps in agile framework?\"\n",
    ")"
   ]
  },
  {
   "cell_type": "code",
   "execution_count": 56,
   "metadata": {},
   "outputs": [
    {
     "data": {
      "text/plain": [
       "[' This is a screenshot of a PowerPoint slide. The slide contains a diagram of two puzzle pieces, one blue and one green. The pieces are interlocked.']"
      ]
     },
     "execution_count": 56,
     "metadata": {},
     "output_type": "execute_result"
    }
   ],
   "source": [
    "# we can retrieve this tediagram text\n",
    "retriever.get_relevant_documents(\n",
    "    \"what are things contained by the images and what they explaining?\"\n",
    ")"
   ]
  },
  {
   "cell_type": "code",
   "execution_count": 60,
   "metadata": {},
   "outputs": [
    {
     "data": {
      "text/plain": [
       "['Project Delivery Team', 'Project Kick off']"
      ]
     },
     "execution_count": 60,
     "metadata": {},
     "output_type": "execute_result"
    }
   ],
   "source": [
    "# we can retrieve this text\n",
    "retriever.get_relevant_documents(\n",
    "    \"what are roles involved in project delivery team?\"\n",
    ")"
   ]
  },
  {
   "cell_type": "code",
   "execution_count": 32,
   "metadata": {},
   "outputs": [],
   "source": [
    "from langchain.schema.runnable import RunnablePassthrough\n",
    "from langchain.prompts import ChatPromptTemplate\n",
    "from langchain.schema.output_parser import StrOutputParser\n",
    "\n",
    "template = \"\"\"Answer the question based only on the following context, which can include text, images and tables:\n",
    "{context}\n",
    "Question: {question}\n",
    "\"\"\"\n",
    "prompt = ChatPromptTemplate.from_template(template)\n",
    "\n",
    "model = ChatOpenAI(temperature=0, model=\"gpt-3.5-turbo\")\n",
    "\n",
    "chain = (\n",
    "    {\"context\": retriever, \"question\": RunnablePassthrough()}\n",
    "    | prompt\n",
    "    | model\n",
    "    | StrOutputParser()\n",
    ")"
   ]
  },
  {
   "cell_type": "code",
   "execution_count": 49,
   "metadata": {},
   "outputs": [
    {
     "data": {
      "text/plain": [
       "'The annual revenue of Americas in 2020 was 2.27 Billion US$.'"
      ]
     },
     "execution_count": 49,
     "metadata": {},
     "output_type": "execute_result"
    }
   ],
   "source": [
    "chain.invoke(\n",
    "     \"\"\"what is the anual revenue of america in 2020?\n",
    "     use the following information to answer the question:\n",
    "[    Year  Revenues                       Billion US$\n",
    " 0         Americas   EME  Asia  Far East       Total\n",
    " 1                                                   \n",
    " 2   2015      1.29  0.52  0.52      0.26        2.58\n",
    " 3   2016      1.54  0.61  0.61      0.31        3.07\n",
    " 4   2017      1.79  0.72  0.72      0.36        3.58\n",
    " 5   2018      1.98  0.79  0.79      0.40        3.97\n",
    " 6   2019      2.18  0.87  0.87      0.44        4.35\n",
    " 7   2020      2.27  0.91  0.91      0.45        4.54\n",
    " 8   2021      2.09  0.84  0.84      0.42        4.18\n",
    " 9   2022      2.35  0.94  0.94      0.47        4.69\n",
    " 10  2023      2.56  1.02  1.02      0.51        5.11,\n",
    " 'Annual Revenues'] \"\"\"\n",
    ")"
   ]
  },
  {
   "cell_type": "code",
   "execution_count": 58,
   "metadata": {},
   "outputs": [
    {
     "data": {
      "text/plain": [
       "'The image contains a چرخه توسعه نرم افزار چابک (Agile Software Development Cycle) which explains the six steps involved in the cycle: Plan, Design, Develop, Test, Evaluate, and Meet. Each step is described in detail, including the activities involved in each phase such as gathering requirements, creating a project plan, designing software architecture, developing software code, testing the software, evaluating it, and meeting with the customer for feedback. The cycle is a continuous process designed to be flexible and adaptable to changes in requirements or technology.'"
      ]
     },
     "execution_count": 58,
     "metadata": {},
     "output_type": "execute_result"
    }
   ],
   "source": [
    "chain.invoke(\n",
    "     \"\"\"what are things contained by the images and what they explaining?\n",
    "     use the following information to answer the question:\n",
    "['SDLC Agile Framework',\n",
    " ' The image contains a چرخه توسعه نرم افزار چابک (Agile software development cycle). The cycle is a continuous process that involves six steps:\\n1. Plan: In this step, the project team gathers requirements from the customer and creates a project plan.\\n2. Design: In this step, the team designs the software architecture and creates a detailed design document.\\n3. Develop: In this step, the team develops the software code.\\n4. Test: In this step, the team tests the software to ensure that it meets the requirements.\\n5. Evaluate: In this step, the team evaluates the software and makes any necessary changes.\\n6. Meet: In this step, the team meets with the customer to review the software and get feedback.'] \"\"\"\n",
    ")"
   ]
  },
  {
   "cell_type": "code",
   "execution_count": 59,
   "metadata": {},
   "outputs": [
    {
     "data": {
      "text/plain": [
       "'The images contain diagrams of puzzle pieces, one blue and one green, that are interlocked. They are explaining the concept of teamwork, collaboration, or problem-solving in a business context.'"
      ]
     },
     "execution_count": 59,
     "metadata": {},
     "output_type": "execute_result"
    }
   ],
   "source": [
    "chain.invoke(\n",
    "     \"\"\"what are things contained by the images and what they explaining?\n",
    "     use the following information to answer the question:\n",
    "[' This is a screenshot of a PowerPoint slide. The slide contains a diagram of two puzzle pieces, one blue and one green. The pieces are interlocked.'] \"\"\"\n",
    ")"
   ]
  },
  {
   "cell_type": "code",
   "execution_count": null,
   "metadata": {},
   "outputs": [],
   "source": [
    "chain.invoke(\n",
    "     \"\"\"what are roles involved in project delivery team?\n",
    "     use the following information to answer the question:\n",
    "[' This is a screenshot of a PowerPoint slide. The slide contains a diagram of two puzzle pieces, one blue and one green. The pieces are interlocked.'] \"\"\"\n",
    ")"
   ]
  }
 ],
 "metadata": {
  "kernelspec": {
   "display_name": "myenv",
   "language": "python",
   "name": "python3"
  },
  "language_info": {
   "codemirror_mode": {
    "name": "ipython",
    "version": 3
   },
   "file_extension": ".py",
   "mimetype": "text/x-python",
   "name": "python",
   "nbconvert_exporter": "python",
   "pygments_lexer": "ipython3",
   "version": "3.10.13"
  }
 },
 "nbformat": 4,
 "nbformat_minor": 2
}
